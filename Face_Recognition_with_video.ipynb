{
 "cells": [
  {
   "cell_type": "code",
   "execution_count": 1,
   "id": "5438d9f5",
   "metadata": {},
   "outputs": [],
   "source": [
    "# import necessary libraries\n",
    "\n",
    "import face_recognition as fr\n",
    "import os\n",
    "import numpy as np\n",
    "import cv2 as cv"
   ]
  },
  {
   "cell_type": "code",
   "execution_count": 2,
   "id": "697ef4ea",
   "metadata": {},
   "outputs": [],
   "source": [
    "# capture video from default webcam\n",
    "\n",
    "video = cv.VideoCapture(0)"
   ]
  },
  {
   "cell_type": "code",
   "execution_count": 3,
   "id": "c7763c40",
   "metadata": {},
   "outputs": [
    {
     "name": "stdout",
     "output_type": "stream",
     "text": [
      "251\n",
      "251\n"
     ]
    }
   ],
   "source": [
    "ROOT = 'Desktop\\\\datasets\\\\avengers_images\\\\train'\n",
    "\n",
    "train_images = []\n",
    "train_labels = []\n",
    "\n",
    "for file in os.listdir(ROOT):\n",
    "    path = os.path.join(ROOT, file)\n",
    "    for image in os.listdir(path):\n",
    "        img_path = os.path.join(path, image)\n",
    "        img = fr.load_image_file(img_path)\n",
    "        img_encoding = fr.face_encodings(img)\n",
    "        try:\n",
    "            train_images.append(img_encoding[0])\n",
    "            train_labels.append(file)\n",
    "        except:\n",
    "            continue\n",
    "        \n",
    "print(len(train_images))\n",
    "print(len(train_labels))"
   ]
  },
  {
   "cell_type": "code",
   "execution_count": 4,
   "id": "75d9fbc1",
   "metadata": {},
   "outputs": [],
   "source": [
    "while True:\n",
    "    # Grab a single frame of video\n",
    "    ret, frame = video.read()\n",
    "\n",
    "    # Convert the image from BGR color (which OpenCV uses) to RGB color (which face_recognition uses)\n",
    "    frame = cv.cvtColor(frame, cv.COLOR_BGR2RGB)\n",
    "\n",
    "    # Find all the faces and face encodings in the current frame of video\n",
    "    face_locations = fr.face_locations(frame)\n",
    "    face_encodings = fr.face_encodings(frame, face_locations)\n",
    "\n",
    "    face_names = []\n",
    "    for face_encoding in face_encodings:\n",
    "        # See if the face is a match for the known face(s)\n",
    "        matches = fr.compare_faces(train_images, face_encoding)\n",
    "        name = 'No match found'\n",
    "\n",
    "        # Use the known face with the smallest distance to the new face\n",
    "        face_distances = fr.face_distance(train_images, face_encoding)\n",
    "        best_match_index = np.argmin(face_distances)\n",
    "        if matches[best_match_index]:\n",
    "            name = train_labels[best_match_index]\n",
    "\n",
    "        face_names.append(name)\n",
    "\n",
    "\n",
    "    # Display the results\n",
    "    for (top, right, bottom, left), name in zip(face_locations, face_names):\n",
    "        # Draw a box around the face\n",
    "        cv.rectangle(frame, (left, top), (right, bottom), (0, 0, 255), thickness=1)\n",
    "\n",
    "        # Draw a label with a name below the face\n",
    "        cv.rectangle(frame, (left, bottom - 35), (right, bottom), (0, 0, 255), thickness=-1)\n",
    "        font = cv.FONT_HERSHEY_DUPLEX\n",
    "        cv.putText(frame, name, (left + 6, bottom - 6), font, fontScale=1, (255, 255, 255), thickness=1)\n",
    "\n",
    "    # Display the resulting image\n",
    "    cv.imshow('Video', frame)\n",
    "\n",
    "    # Hit 'q' on the keyboard to quit!\n",
    "    if cv.waitKey(1) & 0xFF == ord('q'):\n",
    "        cv.destroyAllWindows()\n",
    "        break\n",
    "        \n",
    "# Release handle to the webcam\n",
    "video.release()"
   ]
  }
 ],
 "metadata": {
  "kernelspec": {
   "display_name": "Python 3 (ipykernel)",
   "language": "python",
   "name": "python3"
  },
  "language_info": {
   "codemirror_mode": {
    "name": "ipython",
    "version": 3
   },
   "file_extension": ".py",
   "mimetype": "text/x-python",
   "name": "python",
   "nbconvert_exporter": "python",
   "pygments_lexer": "ipython3",
   "version": "3.8.10"
  }
 },
 "nbformat": 4,
 "nbformat_minor": 5
}
